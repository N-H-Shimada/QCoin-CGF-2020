{
 "cells": [
  {
   "cell_type": "markdown",
   "metadata": {},
   "source": [
    "# ・QSS on IBMQ (Qiskit)"
   ]
  },
  {
   "cell_type": "markdown",
   "metadata": {},
   "source": [
    "### Import modules. You need to install qiskit. Please refer to https://qiskit.org/documentation/install.html"
   ]
  },
  {
   "cell_type": "code",
   "execution_count": 1,
   "metadata": {},
   "outputs": [],
   "source": [
    "import numpy as np\n",
    "import math\n",
    "import matplotlib.pyplot as plt\n",
    "import random"
   ]
  },
  {
   "cell_type": "code",
   "execution_count": 2,
   "metadata": {},
   "outputs": [],
   "source": [
    "import qiskit as qk\n",
    "from qiskit import IBMQ, BasicAer\n",
    "from qiskit import QuantumCircuit, QuantumRegister, ClassicalRegister, execute, Aer\n",
    "from qiskit.tools.visualization import plot_histogram\n",
    "from qiskit.tools.monitor import job_monitor, backend_overview"
   ]
  },
  {
   "cell_type": "markdown",
   "metadata": {},
   "source": [
    "### Required IBMQ account from here. Please copy and paste your token into \"mytoken\"."
   ]
  },
  {
   "cell_type": "code",
   "execution_count": 3,
   "metadata": {},
   "outputs": [
    {
     "name": "stderr",
     "output_type": "stream",
     "text": [
      "Credentials already present. Set overwrite=True to overwrite.\n"
     ]
    },
    {
     "name": "stdout",
     "output_type": "stream",
     "text": [
      "Found 1 credentials.\n",
      "No credentials available for updating could be found. No action will be performed.\n",
      "Warnings:\n",
      "The stored account with url \"https://auth.quantum-computing.ibm.com/api\" is already an IBM Q Experience v2 account.\n"
     ]
    },
    {
     "name": "stderr",
     "output_type": "stream",
     "text": [
      "/Users/NaoharuShimada/Library/Python/3.6/lib/python/site-packages/qiskit/providers/models/backendconfiguration.py:337: UserWarning: `dt` and `dtm` now have units of seconds(s) rather than nanoseconds(ns).\n",
      "  warnings.warn('`dt` and `dtm` now have units of seconds(s) rather '\n"
     ]
    },
    {
     "data": {
      "text/plain": [
       "[<IBMQSimulator('ibmq_qasm_simulator') from IBMQ(hub='ibm-q', group='open', project='main')>,\n",
       " <IBMQBackend('ibmqx2') from IBMQ(hub='ibm-q', group='open', project='main')>,\n",
       " <IBMQBackend('ibmq_16_melbourne') from IBMQ(hub='ibm-q', group='open', project='main')>,\n",
       " <IBMQBackend('ibmq_vigo') from IBMQ(hub='ibm-q', group='open', project='main')>,\n",
       " <IBMQBackend('ibmq_ourense') from IBMQ(hub='ibm-q', group='open', project='main')>,\n",
       " <IBMQBackend('ibmq_london') from IBMQ(hub='ibm-q', group='open', project='main')>,\n",
       " <IBMQBackend('ibmq_burlington') from IBMQ(hub='ibm-q', group='open', project='main')>,\n",
       " <IBMQBackend('ibmq_essex') from IBMQ(hub='ibm-q', group='open', project='main')>,\n",
       " <IBMQBackend('ibmq_armonk') from IBMQ(hub='ibm-q', group='open', project='main')>]"
      ]
     },
     "execution_count": 3,
     "metadata": {},
     "output_type": "execute_result"
    }
   ],
   "source": [
    "IBMQ.update_account()\n",
    "\n",
    "mytoken = ## your token ##\n",
    "IBMQ.save_account(mytoken)\n",
    "\n",
    "provider = IBMQ.load_account()\n",
    "backends = provider.backends()\n",
    "backends"
   ]
  },
  {
   "cell_type": "code",
   "execution_count": 7,
   "metadata": {},
   "outputs": [],
   "source": [
    "# Define circuits function\n",
    "def Create_circuits(ave, P_qubits):\n",
    "\n",
    "    # Define the Quantum and Classical Registers\n",
    "    q = QuantumRegister(P_qubits+1, \"q\")\n",
    "    c = ClassicalRegister(P_qubits+1, \"c\")\n",
    "\n",
    "    # ave = 5/16.0\n",
    "    theta = math.asin(math.sqrt(ave))*2\n",
    "    # print(theta) # |0> -> √f|1>: θ rotation\n",
    "\n",
    "    # ------- Build the circuits -------\n",
    "    circuits = []\n",
    "    \n",
    "    middle = QuantumCircuit(q, c)\n",
    "    for i in range(P_qubits):\n",
    "        middle.h(q[i])\n",
    "    middle.barrier()\n",
    "\n",
    "    # Grover algorithm\n",
    "    for k in range(P_qubits):\n",
    "        for i in range(2**(k)):\n",
    "            if (k==0):\n",
    "                middle.cz(q[k],q[2])\n",
    "            else:\n",
    "                middle.z(q[2])\n",
    "            middle.u3(-theta,0,0,q[2])\n",
    "            middle.cz(q[k],q[2])\n",
    "            middle.u3(theta,0,0,q[2])\n",
    "        middle.barrier()\n",
    "\n",
    "    # Measure a first qubit\n",
    "    meas = QuantumCircuit(q, c)\n",
    "    meas.measure(q[2],c[2])\n",
    "\n",
    "    #QFT\n",
    "    qft3 = QuantumCircuit(q, c, name=\"qft3\")\n",
    "    def qft(circ, q, n):\n",
    "        \"\"\"n-qubit QFT on q in circ.\"\"\"\n",
    "        for j in range(n):\n",
    "            for k in range(j):\n",
    "                circ.cu1(math.pi/float(2**(j-k)), q[k], q[j]) \n",
    "            circ.h(q[1-j])\n",
    "\n",
    "    qft(qft3, q, P_qubits)\n",
    "\n",
    "    # Measurement\n",
    "    meas_QFT = QuantumCircuit(q, c)\n",
    "    for i in range(P_qubits):\n",
    "        meas_QFT.measure(q[i],c[i])\n",
    "    \n",
    "    # Compose all circuits above\n",
    "    circuits.append(middle + meas + qft3 + meas_QFT)\n",
    "    \n",
    "    return circuits[0]"
   ]
  },
  {
   "cell_type": "code",
   "execution_count": 10,
   "metadata": {},
   "outputs": [],
   "source": [
    "# Execute circuits function\n",
    "def Run_circuits(ave, P_qubits, num_experiments, backend):\n",
    "    print(\"Backend: \" + backend.name())\n",
    "    \n",
    "    # Make circuits\n",
    "    circuits = []\n",
    "    for i in range(num_experiments):\n",
    "        circuits.append(Create_circuits(ave, P_qubits))\n",
    "    print(\"\")\n",
    "    print(\"The number of queries: \", (2**P_qubits-1)*2)\n",
    "    print(\"The number of trials: \", num_experiments)\n",
    "    print(\"\")\n",
    "    print(\"-------------------------------------------------------------------------------------------\")\n",
    "    print(\"Quantum circuit is here:\")\n",
    "    print(circuits[0].draw())\n",
    "    print(\"-------------------------------------------------------------------------------------------\")\n",
    "    print(\"\")\n",
    "\n",
    "    job = execute(circuits, backend = backend, shots=1)\n",
    "    job_monitor(job)\n",
    "    job.error_message()\n",
    "    result = job.result()\n",
    "\n",
    "    error = 0.0\n",
    "    for i in range(num_experiments):\n",
    "        counts = result.get_counts(circuits[i])\n",
    "        for a in counts.keys():\n",
    "            b = [a[2],a[1]]\n",
    "        #print(b)\n",
    "        num = 0\n",
    "        for j in range(len(b)):\n",
    "            num += int(b[len(b)-1-j])*(2**j)\n",
    "        #print(num)\n",
    "        if (num<=2**(P_qubits-1)):\n",
    "            num = 2**(P_qubits-1) - num\n",
    "        else:\n",
    "            temp = 2**(P_qubits) + 2**(P_qubits-1)\n",
    "            num = temp - num\n",
    "        #print(num)\n",
    "        estimated_f = 1.0 - math.sin(num*math.pi/(2**P_qubits))**2\n",
    "        print(\"Target:\", ave, \",  Estimate: \", estimated_f)\n",
    "        error += abs(estimated_f-ave)\n",
    "\n",
    "    print(\"-------------------------------------------------------------------------------------------\")\n",
    "    print(\"Ave error:\", error/num_experiments)"
   ]
  },
  {
   "cell_type": "markdown",
   "metadata": {},
   "source": [
    "### Input variables. You can specify target mean value \"ave\" (0.0~1.0), and the number of register qubits \"P_qubits\" (up to 4 qubits) (refer to Figure 9 in our paper). The circuit is run by \"num_experiments\" times."
   ]
  },
  {
   "cell_type": "code",
   "execution_count": 17,
   "metadata": {},
   "outputs": [],
   "source": [
    "# input variables\n",
    "ave = 0.5             # Target value\n",
    "P_qubits = 2          # qubits for register ( the number of queries is defined by (2^P-1)*2 )\n",
    "num_experiments = 10  # how many trials on the same circuits"
   ]
  },
  {
   "cell_type": "markdown",
   "metadata": {},
   "source": [
    "### Execute calculation on simulator. You may confirm the circuit drawn below is compatible to one in Figure 9 (our paper). Resulting Error will be zero if ave=0.0, 0.5, or 1.0 as shown in Figure 7."
   ]
  },
  {
   "cell_type": "code",
   "execution_count": 18,
   "metadata": {
    "scrolled": false
   },
   "outputs": [
    {
     "name": "stdout",
     "output_type": "stream",
     "text": [
      "Backend: ibmq_qasm_simulator\n",
      "\n",
      "The number of queries:  6\n",
      "The number of trials:  10\n",
      "\n",
      "-------------------------------------------------------------------------------------------\n",
      "Quantum circuit is here:\n",
      "        ┌───┐ ░                                         ░      »\n",
      "q_0: |0>┤ H ├─░──■───────────────────■──────────────────░──────»\n",
      "        ├───┤ ░  │                   │                  ░      »\n",
      "q_1: |0>┤ H ├─░──┼───────────────────┼──────────────────░──────»\n",
      "        └───┘ ░  │ ┌───────────────┐ │ ┌──────────────┐ ░ ┌───┐»\n",
      "q_2: |0>──────░──■─┤ U3(-pi/2,0,0) ├─■─┤ U3(pi/2,0,0) ├─░─┤ Z ├»\n",
      "              ░    └───────────────┘   └──────────────┘ ░ └───┘»\n",
      " c_0: 0 ═══════════════════════════════════════════════════════»\n",
      "                                                               »\n",
      " c_1: 0 ═══════════════════════════════════════════════════════»\n",
      "                                                               »\n",
      " c_2: 0 ═══════════════════════════════════════════════════════»\n",
      "                                                               »\n",
      "«                                                                  »\n",
      "«q_0: ─────────────────────────────────────────────────────────────»\n",
      "«                                                                  »\n",
      "«q_1: ──────────────────■────────────────────────────────────────■─»\n",
      "«     ┌───────────────┐ │ ┌──────────────┐┌───┐┌───────────────┐ │ »\n",
      "«q_2: ┤ U3(-pi/2,0,0) ├─■─┤ U3(pi/2,0,0) ├┤ Z ├┤ U3(-pi/2,0,0) ├─■─»\n",
      "«     └───────────────┘   └──────────────┘└───┘└───────────────┘   »\n",
      "«c_0: ═════════════════════════════════════════════════════════════»\n",
      "«                                                                  »\n",
      "«c_1: ═════════════════════════════════════════════════════════════»\n",
      "«                                                                  »\n",
      "«c_2: ═════════════════════════════════════════════════════════════»\n",
      "«                                                                  »\n",
      "«                      ░             ┌───┐┌─┐\n",
      "«q_0: ─────────────────░───────■─────┤ H ├┤M├\n",
      "«                      ░ ┌───┐ │pi/2 └┬─┬┘└╥┘\n",
      "«q_1: ─────────────────░─┤ H ├─■──────┤M├──╫─\n",
      "«     ┌──────────────┐ ░ └┬─┬┘        └╥┘  ║ \n",
      "«q_2: ┤ U3(pi/2,0,0) ├─░──┤M├──────────╫───╫─\n",
      "«     └──────────────┘ ░  └╥┘          ║   ║ \n",
      "«c_0: ═════════════════════╬═══════════╬═══╩═\n",
      "«                          ║           ║     \n",
      "«c_1: ═════════════════════╬═══════════╩═════\n",
      "«                          ║                 \n",
      "«c_2: ═════════════════════╩═════════════════\n",
      "«                                            \n",
      "-------------------------------------------------------------------------------------------\n",
      "\n",
      "Job Status: job has successfully run\n",
      "Target: 0.5 ,  Estimate:  0.4999999999999999\n",
      "Target: 0.5 ,  Estimate:  0.5000000000000001\n",
      "Target: 0.5 ,  Estimate:  0.5000000000000001\n",
      "Target: 0.5 ,  Estimate:  0.5000000000000001\n",
      "Target: 0.5 ,  Estimate:  0.5000000000000001\n",
      "Target: 0.5 ,  Estimate:  0.4999999999999999\n",
      "Target: 0.5 ,  Estimate:  0.4999999999999999\n",
      "Target: 0.5 ,  Estimate:  0.4999999999999999\n",
      "Target: 0.5 ,  Estimate:  0.4999999999999999\n",
      "Target: 0.5 ,  Estimate:  0.4999999999999999\n",
      "-------------------------------------------------------------------------------------------\n",
      "Ave error: 1.1102230246251565e-16\n"
     ]
    }
   ],
   "source": [
    "# Run on a simulator\n",
    "Run_circuits(ave, P_qubits, num_experiments, backends[0])"
   ]
  },
  {
   "cell_type": "markdown",
   "metadata": {},
   "source": [
    "### Execute on a quantum computer. Resulting error will be much worser than on a simulator. "
   ]
  },
  {
   "cell_type": "code",
   "execution_count": 19,
   "metadata": {},
   "outputs": [
    {
     "name": "stdout",
     "output_type": "stream",
     "text": [
      "Backend: ibmqx2\n",
      "\n",
      "The number of queries:  6\n",
      "The number of trials:  10\n",
      "\n",
      "-------------------------------------------------------------------------------------------\n",
      "Quantum circuit is here:\n",
      "        ┌───┐ ░                                         ░      »\n",
      "q_0: |0>┤ H ├─░──■───────────────────■──────────────────░──────»\n",
      "        ├───┤ ░  │                   │                  ░      »\n",
      "q_1: |0>┤ H ├─░──┼───────────────────┼──────────────────░──────»\n",
      "        └───┘ ░  │ ┌───────────────┐ │ ┌──────────────┐ ░ ┌───┐»\n",
      "q_2: |0>──────░──■─┤ U3(-pi/2,0,0) ├─■─┤ U3(pi/2,0,0) ├─░─┤ Z ├»\n",
      "              ░    └───────────────┘   └──────────────┘ ░ └───┘»\n",
      " c_0: 0 ═══════════════════════════════════════════════════════»\n",
      "                                                               »\n",
      " c_1: 0 ═══════════════════════════════════════════════════════»\n",
      "                                                               »\n",
      " c_2: 0 ═══════════════════════════════════════════════════════»\n",
      "                                                               »\n",
      "«                                                                  »\n",
      "«q_0: ─────────────────────────────────────────────────────────────»\n",
      "«                                                                  »\n",
      "«q_1: ──────────────────■────────────────────────────────────────■─»\n",
      "«     ┌───────────────┐ │ ┌──────────────┐┌───┐┌───────────────┐ │ »\n",
      "«q_2: ┤ U3(-pi/2,0,0) ├─■─┤ U3(pi/2,0,0) ├┤ Z ├┤ U3(-pi/2,0,0) ├─■─»\n",
      "«     └───────────────┘   └──────────────┘└───┘└───────────────┘   »\n",
      "«c_0: ═════════════════════════════════════════════════════════════»\n",
      "«                                                                  »\n",
      "«c_1: ═════════════════════════════════════════════════════════════»\n",
      "«                                                                  »\n",
      "«c_2: ═════════════════════════════════════════════════════════════»\n",
      "«                                                                  »\n",
      "«                      ░             ┌───┐┌─┐\n",
      "«q_0: ─────────────────░───────■─────┤ H ├┤M├\n",
      "«                      ░ ┌───┐ │pi/2 └┬─┬┘└╥┘\n",
      "«q_1: ─────────────────░─┤ H ├─■──────┤M├──╫─\n",
      "«     ┌──────────────┐ ░ └┬─┬┘        └╥┘  ║ \n",
      "«q_2: ┤ U3(pi/2,0,0) ├─░──┤M├──────────╫───╫─\n",
      "«     └──────────────┘ ░  └╥┘          ║   ║ \n",
      "«c_0: ═════════════════════╬═══════════╬═══╩═\n",
      "«                          ║           ║     \n",
      "«c_1: ═════════════════════╬═══════════╩═════\n",
      "«                          ║                 \n",
      "«c_2: ═════════════════════╩═════════════════\n",
      "«                                            \n",
      "-------------------------------------------------------------------------------------------\n",
      "\n",
      "Job Status: job has successfully run\n",
      "Target: 0.5 ,  Estimate:  0.4999999999999999\n",
      "Target: 0.5 ,  Estimate:  0.4999999999999999\n",
      "Target: 0.5 ,  Estimate:  1.0\n",
      "Target: 0.5 ,  Estimate:  1.0\n",
      "Target: 0.5 ,  Estimate:  0.4999999999999999\n",
      "Target: 0.5 ,  Estimate:  1.0\n",
      "Target: 0.5 ,  Estimate:  0.4999999999999999\n",
      "Target: 0.5 ,  Estimate:  0.4999999999999999\n",
      "Target: 0.5 ,  Estimate:  1.0\n",
      "Target: 0.5 ,  Estimate:  0.4999999999999999\n",
      "-------------------------------------------------------------------------------------------\n",
      "Ave error: 0.20000000000000004\n"
     ]
    }
   ],
   "source": [
    "# Run on an actual quantum computer\n",
    "Run_circuits(ave, P_qubits, num_experiments, backends[1])"
   ]
  },
  {
   "cell_type": "code",
   "execution_count": null,
   "metadata": {},
   "outputs": [],
   "source": []
  }
 ],
 "metadata": {
  "kernelspec": {
   "display_name": "Python 3",
   "language": "python",
   "name": "python3"
  },
  "language_info": {
   "codemirror_mode": {
    "name": "ipython",
    "version": 3
   },
   "file_extension": ".py",
   "mimetype": "text/x-python",
   "name": "python",
   "nbconvert_exporter": "python",
   "pygments_lexer": "ipython3",
   "version": "3.6.2"
  }
 },
 "nbformat": 4,
 "nbformat_minor": 2
}
